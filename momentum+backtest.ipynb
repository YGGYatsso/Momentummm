{
  "nbformat": 4,
  "nbformat_minor": 0,
  "metadata": {
    "colab": {
      "provenance": []
    },
    "kernelspec": {
      "name": "python3",
      "display_name": "Python 3"
    },
    "language_info": {
      "name": "python"
    }
  },
  "cells": [
    {
      "cell_type": "code",
      "source": [
        "!pip install monthdelta\n",
        "!pip install yfinance"
      ],
      "metadata": {
        "id": "bpGmoI_vIiqz"
      },
      "execution_count": null,
      "outputs": []
    },
    {
      "cell_type": "markdown",
      "source": [
        "```\n",
        "Stock Universe : Nifty 200\n",
        "Nifty 200 list gets updated twice in a year .\n",
        "```"
      ],
      "metadata": {
        "id": "0P7HJkmQbTIg"
      }
    },
    {
      "cell_type": "code",
      "source": [
        "import numpy as np\n",
        "import pandas as pd\n",
        "import yfinance as yfin\n",
        "from datetime import date,timedelta\n",
        "from monthdelta import monthdelta\n",
        "from tqdm import tqdm\n",
        "\n",
        "# as I am looking for top 200 companies in indian indices , these companies must be listed on either\n",
        "#bombay stock exchange or national stock exchange"
      ],
      "metadata": {
        "id": "J56D4eqqZdmw"
      },
      "execution_count": null,
      "outputs": []
    },
    {
      "cell_type": "markdown",
      "source": [
        "\n",
        "\n",
        "```\n",
        "t=yfin.download('JSWINFRA.BO',start= date(2023, 4, 3), end= date(2023, 4, 4))\n",
        "outputs the daily open and close price of the stock in Pandas DataFrame\n",
        "```\n",
        "\n"
      ],
      "metadata": {
        "id": "Ob5I26NEb_Bq"
      }
    },
    {
      "cell_type": "markdown",
      "source": [
        "\n",
        "**Filter out companies who are not listed on any of stock exchange from the start date**\n",
        "\n",
        "\n",
        "\n",
        "\n"
      ],
      "metadata": {
        "id": "KfgWIX-whnIT"
      }
    },
    {
      "cell_type": "code",
      "source": [
        "def filter(nifty200,start):\n",
        "  \"\"\"\n",
        "  filter out companies who are not listed on any of stock exchange from the start date\n",
        "\n",
        "  @params nifty200: pandas dataframe built from nifty200 csv file\n",
        "  @params start : start  date\n",
        "\n",
        "  \"\"\"\n",
        "  rem=[]\n",
        "  for i in tqdm(range(len(nifty200))):\n",
        "    name=nifty200['Symbol'].iloc[i]+\".BO\"\n",
        "    data=yfin.download(name,start=start , end= start+timedelta(1))\n",
        "    # for customs date one can give parameter to start and end variables .\n",
        "    # for end date parameter keep the value one day ahead of last date .\n",
        "\n",
        "\n",
        "    if len(data)==0: # stock is not listed on BSE\n",
        "      name=nifty200['Symbol'].iloc[i]+\".NS\" # try from NSE\n",
        "      data=yfin.download(name,start=start  , end=start+timedelta(1))\n",
        "\n",
        "\n",
        "    #print(len(data))\n",
        "    # if the company  data is not present on both then flag it\n",
        "\n",
        "    if len(data)==0 :\n",
        "      rem.append(i)\n",
        "\n",
        "  #print((rem))\n",
        "  niftyfilter=nifty200.drop(index=rem)\n",
        "\n",
        "  return niftyfilter\n",
        "\n"
      ],
      "metadata": {
        "id": "cNg_LJYUT_eT"
      },
      "execution_count": 6,
      "outputs": []
    },
    {
      "cell_type": "code",
      "source": [
        "def perc_return(nifty200,companies,start,end):\n",
        "  \"\"\"\n",
        "  Finding return final price/initial price .\n",
        "\n",
        "  @params nifty200  :provides list of symbols for top 200 nifty companies.\n",
        "  @params companies :provides list of top 200 nifty companies.\n",
        "  @params start     :refers to initial date of holding period.\n",
        "  @params end       :refers to final date  of holding period.\n",
        "\n",
        "  \"\"\"\n",
        "  val=[]\n",
        "  names=[]\n",
        "\n",
        "  for i in tqdm(range(len(nifty200))):\n",
        "    name=nifty200[i]+\".BO\"\n",
        "    data=yfin.download(name,start=start , end= end)\n",
        "    # J-1 months of holding.\n",
        "\n",
        "    if len(data)==0:\n",
        "      name=nifty200[i]+\".NS\" # trying to fectch data from national stock exchange\n",
        "      data=yfin.download(name,start=start  , end=end)\n",
        "\n",
        "\n",
        "    #print(len(data))\n",
        "    # if the company  data is not present on both then flag it\n",
        "\n",
        "    assert len(data ) !=0 ,\"check if the name is correct or company is  listed or not\"\n",
        "\n",
        "    # data is  already sorted based on increasing trading dates.\n",
        "    final=data.tail(1) # close\n",
        "    initial=data.head(1) #open\n",
        "    #print(name,final,initial,\"\\n\")\n",
        "    value=final[\"Close\"].iloc[0]/initial[\"Open\"].iloc[0] -1\n",
        "    val.append(value)\n",
        "    #adding the name of exchange which provides the stocks data for the company.\n",
        "    names.append(name)\n",
        "\n",
        "\n",
        "  df=pd.DataFrame(val,companies,[\"return\"])\n",
        "  df['Symbol']=nifty200\n",
        "  df['exchange']=names\n",
        "  return  df"
      ],
      "metadata": {
        "id": "Z2EmL2nsxcEu"
      },
      "execution_count": null,
      "outputs": []
    },
    {
      "cell_type": "markdown",
      "source": [
        "**Volatility in the daily stock price**"
      ],
      "metadata": {
        "id": "enIq4Sy3iNsz"
      }
    },
    {
      "cell_type": "code",
      "source": [
        "\n",
        "def variance_perday(returnDF,exchange,start,end):\n",
        "  \"\"\"\n",
        "  Volatility in the daily 'open/close' stock price .\n",
        "\n",
        "  @params returnDF :the dataframe provided by perc_return function\n",
        "  @params exchange : the list of exchnages from where past stock price data is fetched.\n",
        "  @params start     :refers to initial date of holding period.\n",
        "  @params end       :refers to final date  of holding period.\n",
        "  \"\"\"\n",
        "  # here i need to make some changes .. some more finer level structuring .\n",
        "  val=[]\n",
        "  for i in tqdm(range(len(exchange))):\n",
        "    data=yfin.download(exchange[i],start=start , end=end)\n",
        "    # no need to provide end date parameter higher . that's fine !!\n",
        "    #collect=[]\n",
        "    let=data[\"Close\"].to_list()\n",
        "    let.insert(0,data[\"Open\"].iloc[0])\n",
        "    data[\"numer\"]=let[:-1]\n",
        "    data['perday']=data['Close']/data[\"numer\"] -1\n",
        "\n",
        "    volatility=np.std(np.array(data[\"perday\"].to_list()))\n",
        "    val.append(volatility)\n",
        "\n",
        "    assert volatility !=0 , \"variance in stock price can't be zero\"\n",
        "\n",
        "\n",
        "  returnDF['volatile']=val\n",
        "  return returnDF"
      ],
      "metadata": {
        "id": "FRG8oNEmFjWc"
      },
      "execution_count": null,
      "outputs": []
    },
    {
      "cell_type": "code",
      "source": [
        "def finalset(  data,param,nifty100,size=15  ):\n",
        "  \"\"\"\n",
        "  Gives final subset of companies !!\n",
        "\n",
        "  @params :data is the pandas dataframe containing the return and volatility for each companies\n",
        "  @params :param is the list of column names based on which we will sort the data\n",
        "  @params :nifty100 is the list of all companies which are in nifty100\n",
        "  \"\"\"\n",
        "  Df={}\n",
        "  for i in param:\n",
        "    Df[param[i]]=data.sort_values(i,ascending=False).head(size)\n",
        "\n",
        "  # I want to label them whether they are\n",
        "  # I am only labelling between midcap or largecap\n",
        "  # because my base universe is not  going to include smallcaps\n",
        "  # applying absolute momentum to them is not fair I feel !!!!!!!! mehhhh just my thoughts !!!! mehhhh\n",
        "  for key in Df.keys():\n",
        "    table=Df[key]\n",
        "    companylist=table.index\n",
        "    add=[]\n",
        "    for company in companylist:\n",
        "      if company in nifty100:\n",
        "        add.append(\"largecap\")\n",
        "      else:\n",
        "        add.append(\"midcap\")\n",
        "    Df[key][\"label\"]=add\n",
        "\n",
        "  return Df"
      ],
      "metadata": {
        "id": "k2Tl_HwAGjCA"
      },
      "execution_count": null,
      "outputs": []
    },
    {
      "cell_type": "markdown",
      "source": [
        "\n",
        "\n",
        "```\n",
        "Backtest implementation\n",
        "```\n",
        "\n"
      ],
      "metadata": {
        "id": "7eb28vXymVuc"
      }
    },
    {
      "cell_type": "code",
      "source": [
        "def together(start,  nifty200,companies,holding_period=6, returns =1.0,size=15):\n",
        "  \"\"\"\n",
        "   first part of backtest implementation\n",
        "\n",
        "  @params start  :refers to initial date of holding period.\n",
        "  @params nifty200 :provides list of symbols for top 200 nifty companies.\n",
        "  @params comapnies :provides list of top 200 nifty companies.\n",
        "  @params holding_period  :observation time period for past data for building the current subset\n",
        "  @params returns  :return till now (floating datatype)\n",
        "  @params size  :no of companies in the final subset\n",
        "\n",
        "  \"\"\"\n",
        "\n",
        "  #holding period-1 months of data is analysed\n",
        "  initial=start-monthdelta(holding_period)\n",
        "  final=start-monthdelta(1)\n",
        "  data=perc_return(nifty200,companies,initial,final)\n",
        "  exchange=data['exchange'].to_list()\n",
        "  #data2=variance_perday(data,exchange,initial,final)  if you want volatility data also then uncomment this !!\n",
        "  data2=data\n",
        "  # now data2 contains companies based return , exchange names , volatility in that period.\n",
        "  final=data2.sort_values(\"return\",ascending=False).head(size)\n",
        "  print(final)\n",
        "  #now we have the datasheet\n",
        "  sum=0.0\n",
        "  for i in tqdm(range(size)):\n",
        "    exc=final.iloc[i]['exchange']\n",
        "    next=start+monthdelta(1)\n",
        "    take=yfin.download(exc,start,next+timedelta(1))\n",
        "    first=take.head(1).iloc[0]['Open']\n",
        "    last=take.tail(1).iloc[0]['Open']\n",
        "    sum=sum+(last/first)\n",
        "\n",
        "  sum=sum/size  # currently all stocks are assumed to be equiweighted\n",
        "\n",
        "  return (sum) # return in decimal"
      ],
      "metadata": {
        "id": "kE091QHsIPcd"
      },
      "execution_count": null,
      "outputs": []
    },
    {
      "cell_type": "code",
      "source": [
        "def backtest(start,data,holding_period=6,investment_period=12,returns=1.0,size=15):\n",
        "  \"\"\"\n",
        "  Final part of backtest implementation (total return )\n",
        "\n",
        "  @params investment_period :time period for backtesting the strategy.\n",
        "  @params data :pandas dataframe built from nifty200 csv file.\n",
        "  \"\"\"\n",
        "\n",
        "  # investing period is in months\n",
        "  #holding period is in months\n",
        "  #end variable is redundant ?? hmmmmmm\n",
        "  mul=1.0\n",
        "  #print(investment_period)\n",
        "\n",
        "  filterdata=filter(data,start-monthdelta(12))\n",
        "  nifty200=filterdata['Symbol'].to_list()\n",
        "  companies=filterdata['Company Name'].to_list()\n",
        "\n",
        "  for i in range(investment_period):\n",
        "    ret=together(start,nifty200,companies,holding_period)\n",
        "    start=start+monthdelta(1)\n",
        "    mul=mul*ret\n",
        "\n",
        "    #print(mul-1.0) # total returns at the end of each month\n",
        "\n",
        "  return mul-1.0"
      ],
      "metadata": {
        "id": "h22jxzmB7tkg"
      },
      "execution_count": null,
      "outputs": []
    },
    {
      "cell_type": "code",
      "source": [
        "#nifty200=pd.read_csv(\"/content/nifty200list.csv\")\n",
        "#get=backtest(date(2023, 10, 3),nifty200,6,6,1.0,15)"
      ],
      "metadata": {
        "id": "wLsBikcEIuWK"
      },
      "execution_count": null,
      "outputs": []
    },
    {
      "cell_type": "code",
      "source": [],
      "metadata": {
        "id": "hpkybGONIcHg"
      },
      "execution_count": null,
      "outputs": []
    }
  ]
}